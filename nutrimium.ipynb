{
 "cells": [
  {
   "cell_type": "code",
   "execution_count": 79,
   "metadata": {},
   "outputs": [],
   "source": [
    "from enum import Enum\n",
    "from copy import copy, deepcopy\n",
    "from collections import deque"
   ]
  },
  {
   "cell_type": "code",
   "execution_count": 2,
   "metadata": {},
   "outputs": [],
   "source": [
    "CALORIES_STEP_SIZE=250\n",
    "\n",
    "class Goal(Enum):\n",
    "    LOSS = -CALORIES_STEP_SIZE\n",
    "    MAINTAIN = 0\n",
    "    GAIN = CALORIES_STEP_SIZE"
   ]
  },
  {
   "cell_type": "code",
   "execution_count": 3,
   "metadata": {},
   "outputs": [],
   "source": [
    "class UnhandledCaseException(Exception):\n",
    "    pass"
   ]
  },
  {
   "cell_type": "code",
   "execution_count": 4,
   "metadata": {},
   "outputs": [],
   "source": [
    "objective = Goal.LOSS"
   ]
  },
  {
   "cell_type": "code",
   "execution_count": 5,
   "metadata": {},
   "outputs": [
    {
     "data": {
      "text/plain": [
       "'LOSS'"
      ]
     },
     "execution_count": 5,
     "metadata": {},
     "output_type": "execute_result"
    }
   ],
   "source": [
    "objective.name"
   ]
  },
  {
   "cell_type": "code",
   "execution_count": 6,
   "metadata": {},
   "outputs": [
    {
     "data": {
      "text/plain": [
       "-250"
      ]
     },
     "execution_count": 6,
     "metadata": {},
     "output_type": "execute_result"
    }
   ],
   "source": [
    "objective.value"
   ]
  },
  {
   "cell_type": "code",
   "execution_count": 47,
   "metadata": {},
   "outputs": [],
   "source": [
    "aca = 2000"
   ]
  },
  {
   "cell_type": "code",
   "execution_count": 48,
   "metadata": {},
   "outputs": [],
   "source": [
    "dej = 1900"
   ]
  },
  {
   "cell_type": "code",
   "execution_count": 49,
   "metadata": {},
   "outputs": [],
   "source": [
    "mb = 1400"
   ]
  },
  {
   "cell_type": "code",
   "execution_count": 50,
   "metadata": {},
   "outputs": [],
   "source": [
    "assert dej > mb "
   ]
  },
  {
   "cell_type": "code",
   "execution_count": null,
   "metadata": {},
   "outputs": [],
   "source": []
  },
  {
   "cell_type": "code",
   "execution_count": 51,
   "metadata": {},
   "outputs": [],
   "source": [
    "def is_close(a, b, close=150):\n",
    "    if abs(a - b) < close:\n",
    "        return True\n",
    "    return False"
   ]
  },
  {
   "cell_type": "code",
   "execution_count": 52,
   "metadata": {},
   "outputs": [],
   "source": [
    "def init():\n",
    "\n",
    "    if objective.name == 'LOSS':\n",
    "\n",
    "        if aca > dej:\n",
    "            print(\"Generate a menu equal to (or less than) ACA\")\n",
    "        elif is_close(aca, dej):\n",
    "                print(\"Generate a menu equal to (or less than) ACA\")\n",
    "        elif aca < dej:\n",
    "                print(\"Generate a menu equal to (or less than) ACA\")\n",
    "        else: \n",
    "            raise UnhandledCaseException()\n",
    "\n",
    "\n",
    "    if objective.name == 'MAINTAIN':\n",
    "        raise UnhandledCaseException()\n",
    "\n",
    "\n",
    "    if objective.name == 'GAIN':\n",
    "        if aca > dej:\n",
    "            print(\"Generate a menu equal to (or less than) ACA\")\n",
    "        elif is_close(aca, dej):\n",
    "                print(\"Generate a menu equal to (or less than) ACA\")\n",
    "        elif aca < dej:\n",
    "                print(\"Generate a menu equal to (or less than) ACA\")\n",
    "        else: \n",
    "            raise UnhandledCaseException()"
   ]
  },
  {
   "cell_type": "code",
   "execution_count": 105,
   "metadata": {},
   "outputs": [],
   "source": [
    "class State:\n",
    "    pass\n",
    "\n",
    "class Sequence:\n",
    "    def __init__(self):\n",
    "        self.state = {\n",
    "            \"goal\": objective,\n",
    "            \"age_in_weeks\": 0,\n",
    "            \"phase\": Phase.LOSS,\n",
    "            \"dej\": dej,\n",
    "            \"mb\": mb,\n",
    "            \"aca\": aca,\n",
    "            \"weight\": 80,\n",
    "            \"weeks_in_phase\": 0,\n",
    "        }\n",
    "        self.history = deque(maxlen=10)\n",
    "        \n",
    "    def get_weight_last_n_weeks(self, n=3):\n",
    "        if len(self.history) >= n:\n",
    "            return [x[\"weight\"] for x in self.history][-n:]"
   ]
  },
  {
   "cell_type": "code",
   "execution_count": 106,
   "metadata": {},
   "outputs": [
    {
     "data": {
      "text/plain": [
       "{'goal': <Goal.LOSS: -250>,\n",
       " 'age_in_weeks': 0,\n",
       " 'phase': <Phase.LOSS: 0>,\n",
       " 'dej': 1900,\n",
       " 'mb': 1400,\n",
       " 'aca': 2000,\n",
       " 'weight': 80,\n",
       " 'weeks_in_phase': 0}"
      ]
     },
     "execution_count": 106,
     "metadata": {},
     "output_type": "execute_result"
    }
   ],
   "source": [
    "s = Sequence()\n",
    "s.state"
   ]
  },
  {
   "cell_type": "code",
   "execution_count": 107,
   "metadata": {},
   "outputs": [],
   "source": [
    "s.get_weight_last_n_weeks()"
   ]
  },
  {
   "cell_type": "code",
   "execution_count": null,
   "metadata": {},
   "outputs": [],
   "source": []
  },
  {
   "cell_type": "code",
   "execution_count": 114,
   "metadata": {},
   "outputs": [
    {
     "name": "stdout",
     "output_type": "stream",
     "text": [
      "{'goal': <Goal.LOSS: -250>, 'age_in_weeks': 12, 'phase': <Phase.LOSS: 0>, 'dej': 1900, 'mb': 1400, 'aca': 2000, 'weight': 80, 'weeks_in_phase': 11}\n",
      "{'goal': <Goal.LOSS: -250>, 'age_in_weeks': 13, 'phase': <Phase.LOSS: 0>, 'dej': 1900, 'mb': 1400, 'aca': 1750, 'weight': 80, 'weeks_in_phase': 12}\n",
      "{'goal': <Goal.LOSS: -250>, 'age_in_weeks': 14, 'phase': <Phase.LOSS: 0>, 'dej': 1900, 'mb': 1400, 'aca': 1500, 'weight': 80, 'weeks_in_phase': 13}\n",
      "{'goal': <Goal.LOSS: -250>, 'age_in_weeks': 15, 'phase': <Phase.LOSS: 0>, 'dej': 1900, 'mb': 1400, 'aca': 1250, 'weight': 80, 'weeks_in_phase': 14}\n",
      "{'goal': <Goal.LOSS: -250>, 'age_in_weeks': 16, 'phase': <Phase.LOSS: 0>, 'dej': 1900, 'mb': 1400, 'aca': 1000, 'weight': 80, 'weeks_in_phase': 15}\n",
      "{'goal': <Goal.LOSS: -250>, 'age_in_weeks': 17, 'phase': <Phase.LOSS: 0>, 'dej': 1900, 'mb': 1400, 'aca': 750, 'weight': 80, 'weeks_in_phase': 16}\n",
      "{'goal': <Goal.LOSS: -250>, 'age_in_weeks': 18, 'phase': <Phase.LOSS: 0>, 'dej': 1900, 'mb': 1400, 'aca': 500, 'weight': 80, 'weeks_in_phase': 17}\n",
      "{'goal': <Goal.LOSS: -250>, 'age_in_weeks': 19, 'phase': <Phase.LOSS: 0>, 'dej': 1900, 'mb': 1400, 'aca': 250, 'weight': 80, 'weeks_in_phase': 18}\n",
      "{'goal': <Goal.LOSS: -250>, 'age_in_weeks': 20, 'phase': <Phase.LOSS: 0>, 'dej': 1900, 'mb': 1400, 'aca': 0, 'weight': 80, 'weeks_in_phase': 19}\n",
      "{'goal': <Goal.LOSS: -250>, 'age_in_weeks': 21, 'phase': <Phase.LOSS: 0>, 'dej': 1900, 'mb': 1400, 'aca': -250, 'weight': 80, 'weeks_in_phase': 20}\n",
      "{'goal': <Goal.LOSS: -250>, 'age_in_weeks': 22, 'phase': <Phase.LOSS: 0>, 'dej': 1900, 'mb': 1400, 'aca': -500, 'weight': 80, 'weeks_in_phase': 21}\n",
      "{'goal': <Goal.LOSS: -250>, 'age_in_weeks': 23, 'phase': <Phase.LOSS: 0>, 'dej': 1900, 'mb': 1400, 'aca': -750, 'weight': 80, 'weeks_in_phase': 22}\n"
     ]
    }
   ],
   "source": [
    "for i in range(12):\n",
    "    if s.state[\"age_in_weeks\"] == 0:\n",
    "        init()\n",
    "        s.state[\"age_in_weeks\"] += 1\n",
    "    else: \n",
    "        print(s.state)\n",
    "        _state = deepcopy(s.state)\n",
    "        \n",
    "        ## update state\n",
    "        h = s.get_weight_last_n_weeks()\n",
    "        if len(h) >= 3:\n",
    "            delta = h[-1] - h[0]\n",
    "            if delta >= 0: # prise de poids ou stagnation\n",
    "                s.state[\"aca\"] -= 250 # todo check if aca > mb, should not go below mb\n",
    "        ## end update state\n",
    "        \n",
    "        s.history.append(_state)\n",
    "        s.state[\"age_in_weeks\"] += 1\n",
    "        s.state[\"weeks_in_phase\"] += 1\n",
    "    "
   ]
  },
  {
   "cell_type": "code",
   "execution_count": 111,
   "metadata": {},
   "outputs": [
    {
     "data": {
      "text/plain": [
       "0"
      ]
     },
     "execution_count": 111,
     "metadata": {},
     "output_type": "execute_result"
    }
   ],
   "source": [
    "h = s.get_weight_last_n_weeks()\n",
    "delta = h[-1] - h[0]\n",
    "delta"
   ]
  },
  {
   "cell_type": "markdown",
   "metadata": {},
   "source": [
    "# Separer l'objectif de la phase"
   ]
  },
  {
   "cell_type": "code",
   "execution_count": 14,
   "metadata": {},
   "outputs": [],
   "source": [
    "class Phase(Enum):\n",
    "    LOSS = 0\n",
    "    STOP = 1\n",
    "    MAINTAINANCE = 2 \n",
    "    "
   ]
  },
  {
   "cell_type": "code",
   "execution_count": 15,
   "metadata": {},
   "outputs": [],
   "source": [
    "# Cycler p127"
   ]
  },
  {
   "cell_type": "code",
   "execution_count": 16,
   "metadata": {},
   "outputs": [
    {
     "name": "stdout",
     "output_type": "stream",
     "text": [
      "PERTE\n",
      "ARRET\n",
      "ENTRETIEN\n",
      "PERTE\n"
     ]
    }
   ],
   "source": [
    "if objective.name == 'LOSS':\n",
    "    print(\"PERTE\")\n",
    "    print(\"ARRET\")\n",
    "    print(\"ENTRETIEN\")\n",
    "    print(\"PERTE\")\n",
    "    \n",
    "if objective.name == 'GAIN':\n",
    "    print(\"GAIN\")\n",
    "    print(\"ARRET\")\n",
    "    print(\"ENTRETIEN\")\n",
    "    print(\"GAIN\")"
   ]
  },
  {
   "cell_type": "markdown",
   "metadata": {},
   "source": [
    "# Simulation "
   ]
  },
  {
   "cell_type": "code",
   "execution_count": null,
   "metadata": {},
   "outputs": [],
   "source": []
  },
  {
   "cell_type": "code",
   "execution_count": null,
   "metadata": {},
   "outputs": [],
   "source": []
  }
 ],
 "metadata": {
  "kernelspec": {
   "display_name": "Python 3",
   "language": "python",
   "name": "python3"
  },
  "language_info": {
   "codemirror_mode": {
    "name": "ipython",
    "version": 3
   },
   "file_extension": ".py",
   "mimetype": "text/x-python",
   "name": "python",
   "nbconvert_exporter": "python",
   "pygments_lexer": "ipython3",
   "version": "3.9.1"
  }
 },
 "nbformat": 4,
 "nbformat_minor": 4
}
